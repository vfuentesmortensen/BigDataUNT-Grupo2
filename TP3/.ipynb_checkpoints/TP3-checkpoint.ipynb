{
 "cells": [
  {
   "cell_type": "markdown",
   "id": "6b906ec6-6b59-41e4-a818-fabe159e282f",
   "metadata": {},
   "source": [
    "# Trabajo Práctico 3 - Big Data UNT\n",
    "## Análisis Descriptivo y Predicción de Desocupación"
   ]
  },
  {
   "cell_type": "markdown",
   "id": "fe6b674a-71ac-41ae-928b-65820236a0df",
   "metadata": {},
   "source": [
    "### Parte 1: Analizando la base"
   ]
  },
  {
   "cell_type": "markdown",
   "id": "77cf4f43-97eb-47c2-a20b-fcec65a62bb2",
   "metadata": {},
   "source": [
    "#### Ejercicio 2"
   ]
  },
  {
   "cell_type": "code",
   "execution_count": null,
   "id": "73587e9b-fabc-47fe-b866-1674fb4a948d",
   "metadata": {},
   "outputs": [],
   "source": [
    "# Carga de las bases de datos individuales de la EPH para el primer trimestre de 2004 y 2024\n",
    "\n",
    "import pandas as pd \n",
    "\n",
    "base2004=pd.read_stata(\"C:/Users/valen/Dropbox/GitHub/TP0-Grupo2/TP3/usu_individual_T104.dta\")\n",
    "#base2004=\n",
    "base2024=pd.read_excel(\"C:/Users/valen/Dropbox/GitHub/TP0-Grupo2/TP3/usu_individual_T124.xlsx\")\n",
    "#base2024="
   ]
  },
  {
   "cell_type": "code",
   "execution_count": null,
   "id": "4acb2aa8-0023-4b10-ae77-4cbda6e5386f",
   "metadata": {},
   "outputs": [],
   "source": [
    "#Unificamos los nombres de las columnas de ambos data frame, dejando todo en minúsculas\n",
    "base2004=base2004.columns.str.lower()\n",
    "base2024=base2024.columns.str.lower()"
   ]
  },
  {
   "cell_type": "code",
   "execution_count": null,
   "id": "f9e71907-6fb1-4c98-b678-20de8b728a39",
   "metadata": {},
   "outputs": [],
   "source": [
    "#Observamos la estructura de los datos\n",
    "print(base2004)\n",
    "print(base2024)"
   ]
  },
  {
   "cell_type": "code",
   "execution_count": null,
   "id": "ca11cece-28a4-4d30-8d0e-bd7d3661a3dc",
   "metadata": {},
   "outputs": [],
   "source": [
    "#Eliminamos todas las observaciones de ambas bases que no corresponden al aglomerado Gran Tucumán-Tafí Viejo\n",
    "\n",
    "base2004_tuc=base2004[base2004['aglomerado']==29]\n",
    "base2024_tuc=base2024[base2024['aglomerado']==29]\n",
    "\n",
    "#Unimos ambas bases en una sola\n",
    "\n",
    "base=base2004_tuc.append(base2024_tuc, ignore_index=True)\n",
    "\n",
    "#print(base)\n"
   ]
  },
  {
   "cell_type": "code",
   "execution_count": null,
   "id": "b25810e8-3796-4b9f-be79-368aa08d6fae",
   "metadata": {},
   "outputs": [],
   "source": []
  }
 ],
 "metadata": {
  "kernelspec": {
   "display_name": "Python 3 (ipykernel)",
   "language": "python",
   "name": "python3"
  },
  "language_info": {
   "codemirror_mode": {
    "name": "ipython",
    "version": 3
   },
   "file_extension": ".py",
   "mimetype": "text/x-python",
   "name": "python",
   "nbconvert_exporter": "python",
   "pygments_lexer": "ipython3",
   "version": "3.12.4"
  }
 },
 "nbformat": 4,
 "nbformat_minor": 5
}
